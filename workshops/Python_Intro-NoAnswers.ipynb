{
 "cells": [
  {
   "cell_type": "markdown",
   "metadata": {},
   "source": [
    "<center><b>Python Crash Course</b><br />\n",
    "Fred Amouzgar - Macquarie University - August 2018</center>"
   ]
  },
  {
   "cell_type": "markdown",
   "metadata": {},
   "source": [
    "<img style=\"background-color: darkblue\" src=\"https://www.python.org/static/img/python-logo@2x.png\" />"
   ]
  },
  {
   "cell_type": "markdown",
   "metadata": {},
   "source": [
    "<font size=5>Python</font> is an interpreted high-level programming language for general-purpose programming.Python features a dynamic type system and automatic memory management. It supports multiple programming paradigms, including <b><u>object-oriented</u>, <u>imperative</u>, <u>functional</u> and <u>procedural</u></b>, and has a large and comprehensive standard library. <a href=\"https://en.wikipedia.org/wiki/Python_(programming_language)\">[Wiki]</a>"
   ]
  },
  {
   "cell_type": "markdown",
   "metadata": {},
   "source": [
    "1- Printing in Python (Press Ctrl+Enter for execution):"
   ]
  },
  {
   "cell_type": "code",
   "execution_count": 1,
   "metadata": {},
   "outputs": [
    {
     "name": "stdout",
     "output_type": "stream",
     "text": [
      "Hello World!\n",
      "Hello World!\n"
     ]
    }
   ],
   "source": [
    "print(\"Hello World!\") #Double quote\n",
    "print('Hello World!') #single quote"
   ]
  },
  {
   "cell_type": "markdown",
   "metadata": {},
   "source": [
    "Ex01- Print you name bellow:"
   ]
  },
  {
   "cell_type": "code",
   "execution_count": null,
   "metadata": {
    "collapsed": true
   },
   "outputs": [],
   "source": []
  },
  {
   "cell_type": "markdown",
   "metadata": {},
   "source": [
    "2- Arithmetics. Add 140 and 40, Subtract 130 and 20, Multiply 65 and 22 and divide 20 by 3:"
   ]
  },
  {
   "cell_type": "code",
   "execution_count": 2,
   "metadata": {},
   "outputs": [
    {
     "name": "stdout",
     "output_type": "stream",
     "text": [
      "140 + 40 = 180\n",
      "130 - 20 = 110\n",
      "65 x 22 = 1430\n",
      "20 / 3 = 6.666666666666667\n"
     ]
    }
   ],
   "source": [
    "print(\"140 + 40 = \" + str(140 + 40))\n",
    "print(\"130 - 20 = \" + str(130 - 20))\n",
    "print(\"65 x 22 = \" + str(65 * 22))\n",
    "print(\"20 / 3 = \" + str(20/3))"
   ]
  },
  {
   "cell_type": "markdown",
   "metadata": {},
   "source": [
    "Ex02- Calculate $\\dfrac{20 * 90 - 3}{100}$"
   ]
  },
  {
   "cell_type": "code",
   "execution_count": null,
   "metadata": {
    "collapsed": true
   },
   "outputs": [],
   "source": []
  },
  {
   "cell_type": "markdown",
   "metadata": {},
   "source": [
    "3- In Python we can store characters (letters, numbers, spaces, ...) by putting them in single/double quotes. When using +, our strings stick together. This is called String concatenation:"
   ]
  },
  {
   "cell_type": "code",
   "execution_count": 3,
   "metadata": {},
   "outputs": [
    {
     "name": "stdout",
     "output_type": "stream",
     "text": [
      "I love Machine Learning!\n"
     ]
    }
   ],
   "source": [
    "print('I love '+ \"Machine Learning!\")"
   ]
  },
  {
   "cell_type": "markdown",
   "metadata": {},
   "source": [
    "Ex03- Use concatenation (+) to join your first name and last name and print them out:"
   ]
  },
  {
   "cell_type": "code",
   "execution_count": null,
   "metadata": {
    "collapsed": true
   },
   "outputs": [],
   "source": []
  },
  {
   "cell_type": "markdown",
   "metadata": {},
   "source": [
    "4- The length of a string is measured by <b>len()</b> function.<br />\n",
    "Accessing characters is by using <b>[]</b>. Python is a zero-index programming language."
   ]
  },
  {
   "cell_type": "code",
   "execution_count": 4,
   "metadata": {},
   "outputs": [
    {
     "name": "stdout",
     "output_type": "stream",
     "text": [
      "23\n",
      "F\n",
      "Fred\n"
     ]
    }
   ],
   "source": [
    "print(len(\"How long am I exactly?!\"))\n",
    "print(\"Fred is a student.\"[0])\n",
    "print(\"Fred is a student.\"[0:4]) # Character index 0 to 4 (Non-inclusive)"
   ]
  },
  {
   "cell_type": "markdown",
   "metadata": {},
   "source": [
    "Ex04- How many characters are in your last name?"
   ]
  },
  {
   "cell_type": "code",
   "execution_count": null,
   "metadata": {
    "collapsed": true
   },
   "outputs": [],
   "source": []
  },
  {
   "cell_type": "markdown",
   "metadata": {},
   "source": [
    "5- Variables are containers which can store data. Python does not need variable declaration. = sign is used for assignment. <br />\n",
    "Numbers don't need the double/single qoutes when we store them."
   ]
  },
  {
   "cell_type": "code",
   "execution_count": 5,
   "metadata": {},
   "outputs": [
    {
     "name": "stdout",
     "output_type": "stream",
     "text": [
      "Greetings Jason! You should pay 450$.\n"
     ]
    }
   ],
   "source": [
    "name = \"Jason\"\n",
    "price = 150\n",
    "number_of_products = 3\n",
    "message = \"Greetings \" + name + \"!\" + \" You should pay \" + str(price * number_of_products) + \"$.\"\n",
    "print(message)"
   ]
  },
  {
   "cell_type": "markdown",
   "metadata": {},
   "source": [
    "6- Python classifies data into different categories called data types. We can check that by using <i><b>type()</b></i> method.<br />\n",
    "We can cast (convert) types using these funtions: <b>int(), float(), str()</b>"
   ]
  },
  {
   "cell_type": "code",
   "execution_count": 6,
   "metadata": {},
   "outputs": [
    {
     "name": "stdout",
     "output_type": "stream",
     "text": [
      "<class 'int'>\n",
      "<class 'bool'>\n",
      "<class 'float'>\n",
      "4.8\n"
     ]
    }
   ],
   "source": [
    "print(type(23))\n",
    "print(type(True))\n",
    "print(type(3.14))\n",
    "s = \"24\"\n",
    "print(int(s)/5)"
   ]
  },
  {
   "cell_type": "markdown",
   "metadata": {},
   "source": [
    "Ex05- Create two strings called a and b, a = \"12\" and b = \"15\". Cast them to integer and print the multiplication."
   ]
  },
  {
   "cell_type": "code",
   "execution_count": null,
   "metadata": {
    "collapsed": true
   },
   "outputs": [],
   "source": []
  },
  {
   "cell_type": "markdown",
   "metadata": {},
   "source": [
    "7- A Boolean value is either True or False. Equality, non-equality and relative operations such as greater than and lesser than, create boolean output."
   ]
  },
  {
   "cell_type": "code",
   "execution_count": 7,
   "metadata": {},
   "outputs": [
    {
     "name": "stdout",
     "output_type": "stream",
     "text": [
      "True\n",
      "True\n",
      "False\n",
      "True\n",
      "False\n",
      "True\n"
     ]
    }
   ],
   "source": [
    "print(True) #True\n",
    "print(\"cat\" == \"cat\") #True\n",
    "print(21 == 22) #False - Equality\n",
    "print(21 != 22) #True - Not equal\n",
    "print(2 >= 3) #False - Greater than\n",
    "print(2<12) #True - Lesser than"
   ]
  },
  {
   "cell_type": "markdown",
   "metadata": {},
   "source": [
    "8- If statement is a conditional that let us run code when the condition is <b>True</b>. Blocks in Python must have <b>indentation</b>, including if/elif/else statements.<br />\n",
    "Logical operators are used to make complex expressions that evaluate to a Boolean. Logical operators are <b>and, or</b> and <b>not.</b>"
   ]
  },
  {
   "cell_type": "code",
   "execution_count": 8,
   "metadata": {},
   "outputs": [
    {
     "name": "stdout",
     "output_type": "stream",
     "text": [
      "The water is too hot!\n",
      "The temperature is ok!\n",
      "The water is too cold.\n"
     ]
    }
   ],
   "source": [
    "temp = 40\n",
    "if temp > 30:\n",
    "    print(\"The water is too hot!\")\n",
    "else:\n",
    "    print(\"The temperature is ok!\")\n",
    "    \n",
    "###################################\n",
    "\n",
    "temp = 20\n",
    "if temp > 30: \n",
    "    print(\"The water is too hot!\")\n",
    "else:\n",
    "    print(\"The temperature is ok!\")\n",
    "\n",
    "###################################\n",
    "    \n",
    "temp = 5\n",
    "if temp > 30:                    # temp > 30\n",
    "    print(\"The water is too hot!\")\n",
    "elif temp <= 30 and temp >=20:  # 20 < temp < 30\n",
    "    print(\"The temperature is ok!\")\n",
    "else:                           # temp < 20\n",
    "    print(\"The water is too cold.\")"
   ]
  },
  {
   "cell_type": "markdown",
   "metadata": {},
   "source": [
    "Modulus Operator: Python provides the modulus operator (%), which yields the remainder after integer division. The expression x % y yields the remainder after x is divided by y. Thus, 7 % 4 yields 3 and 17 % 5 yields 2. This operator is most commonly used with integer operands, but also can be used with other arithmetic types.\n",
    "\n",
    "EX06- Write a program that gets two integers called a and b (set their values using assignment, i.e. a=12, b=5). The program determines and prints whether the first is a multiple of the second (HINT: Use the modulus operator (%).)."
   ]
  },
  {
   "cell_type": "code",
   "execution_count": null,
   "metadata": {
    "collapsed": true
   },
   "outputs": [],
   "source": []
  },
  {
   "cell_type": "markdown",
   "metadata": {},
   "source": [
    "9- A <b>for loop</b> runs a chunk of code for a specified number of times. It's very useful for repetitive code. One very helful function in Python is <b>range</b> function which generates a range of numbers for our loops. <b>range(START, END, STEP)</b> and END is non-inclusive."
   ]
  },
  {
   "cell_type": "code",
   "execution_count": 9,
   "metadata": {},
   "outputs": [
    {
     "name": "stdout",
     "output_type": "stream",
     "text": [
      "0\n",
      "1\n",
      "2\n",
      "############\n",
      "0\n",
      "1\n",
      "2\n",
      "############\n",
      "10\n",
      "9\n",
      "8\n",
      "7\n",
      "6\n",
      "5\n",
      "4\n",
      "3\n",
      "2\n",
      "1\n"
     ]
    }
   ],
   "source": [
    "for i in range(0, 3): # 0, 1, 2\n",
    "    print(i)\n",
    "    \n",
    "print(\"############\")\n",
    "    \n",
    "for i in range(3): # 0, 1, 2\n",
    "    print(i)\n",
    "\n",
    "print(\"############\")\n",
    "\n",
    "for i in range(10,0,-1): # 10,...,1 : A countdown\n",
    "    print(i)"
   ]
  },
  {
   "cell_type": "markdown",
   "metadata": {},
   "source": [
    "10- A <b>Function</b> is a chunk of reusable code. A function can <b>return</b> a value to the caller. Functions are defined by <b>def</b> keyword. For example, the code below is a multiplier funtion."
   ]
  },
  {
   "cell_type": "code",
   "execution_count": 10,
   "metadata": {},
   "outputs": [
    {
     "name": "stdout",
     "output_type": "stream",
     "text": [
      "200\n"
     ]
    }
   ],
   "source": [
    "def multiply(p1, p2):  # function Definition\n",
    "    return p1 * p2\n",
    "\n",
    "print(multiply(10,20)) # Function call"
   ]
  },
  {
   "cell_type": "markdown",
   "metadata": {},
   "source": [
    "Ex07- Implement the following function fahrenheit to return the Fahrenheit equivalent of a Celsius temperature.\n",
    "<br />$F = \\dfrac{9}{5}C + 32$ <br />\n",
    "Use this function to write a program that prints a chart showing the Fahrenheit equivalents of all Celsius temperatures 0–100 degrees. Use one position of precision to the right of the decimal point for\n",
    "the results."
   ]
  },
  {
   "cell_type": "code",
   "execution_count": null,
   "metadata": {
    "collapsed": true
   },
   "outputs": [],
   "source": []
  },
  {
   "cell_type": "markdown",
   "metadata": {},
   "source": [
    "11- A <b>module</b> is an external chunk of Python code that you can <b>import</b> and use in your code.<br />\n",
    "We can import only one function/class from a module. We can also rename the modules with <b>as</b> for the sake of simplicity."
   ]
  },
  {
   "cell_type": "code",
   "execution_count": 11,
   "metadata": {},
   "outputs": [
    {
     "name": "stdout",
     "output_type": "stream",
     "text": [
      "Roll a dice: 2\n",
      "Ceil of 2.3: 3\n",
      "Floor of 1.2: 1\n",
      "Floor of 4.3: 4\n"
     ]
    }
   ],
   "source": [
    "import random\n",
    "print(\"Roll a dice:\", random.randint(1,6))\n",
    "\n",
    "import math\n",
    "print(\"Ceil of 2.3:\", math.ceil(2.3))\n",
    "print(\"Floor of 1.2:\", math.floor(1.2))\n",
    "\n",
    "from math import floor # importing a single function from a module\n",
    "import math as m\n",
    "print(\"Floor of 4.3:\", m.floor(4.3))"
   ]
  },
  {
   "cell_type": "markdown",
   "metadata": {},
   "source": [
    "12- Python has 3 popular data structures, <b>Lists, Dictionaries, and Tuples</b>.<br />\n",
    "<b>Lists</b> contain multiple values and are made using <b>[]</b>. We can access each element by its index. Negative index helps us go backward in the list.<br />\n",
    "A <b>Dictionary</b> stores items by pairing a key and a value. The <b>key</b> works like an index in lists.<br />\n",
    "<b>Tuples</b> are like lists but are declared by <b>()</b> and are immutable. Immutable is a fancy way of saying that tuples cannot change after initialization. Creating a tuple with<br>aTuple = 12, 15, 30<br>or<br>aTuple = (12, 15, 30)<br>is called packing a tuple, because the values are “packed into” the tuple. Tuples and other sequences also can be unpacked—the values stored in the sequence are assigned to various identifiers. Unpacking is a useful programming shortcut for assigning values to multiple variables in a single statement."
   ]
  },
  {
   "cell_type": "code",
   "execution_count": 12,
   "metadata": {
    "scrolled": true
   },
   "outputs": [
    {
     "name": "stdout",
     "output_type": "stream",
     "text": [
      "############# LISTS #############\n",
      "one\n",
      "two\n",
      "three\n",
      "############\n",
      "three\n",
      "two\n",
      "one\n",
      "############\n",
      "Sum of all the elements of the list:  54\n",
      "Average of the elements of the list:  13.5\n",
      "######### Dictionary ##########\n",
      "Fantastic for enterprise applications\n",
      "{'python': 'An easy programming language', 'C++': 'A great System programming language'}\n",
      "True\n",
      "True\n",
      "########## Tuple ###########\n",
      "('keyword', 2321)  :  <class 'tuple'>\n",
      "First part:  keyword\n",
      "Second part:  2321\n"
     ]
    }
   ],
   "source": [
    "############# LISTS #############\n",
    "print('############# LISTS #############')\n",
    "words = [\"one\", \"two\", \"three\"] # A list\n",
    "for i in range(len(words)): # Traversing all the elements of the list\n",
    "    print(words[i])\n",
    "print(\"############\")\n",
    "print(words[-1])\n",
    "print(words[-2])\n",
    "print(words[-3])\n",
    "print(\"############\")\n",
    "numbers= [12,13,14,15]\n",
    "print(\"Sum of all the elements of the list: \",sum(numbers))\n",
    "print(\"Average of the elements of the list: \",sum(numbers)/len(numbers))\n",
    "\n",
    "######### Dictionary ##########\n",
    "print(\"######### Dictionary ##########\")\n",
    "dictionary = {\"python\":\"An easy programming language\",\n",
    "              \"C++\":\"A great System programming language\",\n",
    "              \"Java\":\"Fantastic for enterprise applications\"}\n",
    "print(dictionary[\"Java\"])\n",
    "del dictionary[\"Java\"] # Deleting elements from the dictionary\n",
    "print(dictionary)\n",
    "print('C++' in dictionary) # Checking an element is IN the dictionary\n",
    "print('Java' not in dictionary) # Checking an element is NOT IN the dictionary\n",
    "\n",
    "########## Tuple ###########\n",
    "print(\"########## Tuple ###########\")\n",
    "def map():\n",
    "    key = \"keyword\"\n",
    "    value = 2321\n",
    "    return key, value\n",
    "\n",
    "t = map()\n",
    "print(t,\" : \",type(t))\n",
    "a, b = t\n",
    "print(\"First part: \",a)\n",
    "print(\"Second part: \", b)"
   ]
  },
  {
   "cell_type": "markdown",
   "metadata": {},
   "source": [
    "Run Mongo Server: <b>\\$ mongod</b><br />\n",
    "Download Trump’s tweets in JSON file fromat: http://stash.compciv.org/2017/realdonaldtrump-tweets.json <br />\n",
    "Import the JSON file in MongoDB (Go to the file’s directory): <b>\\$ mongoimport --db trump --collection tweets --type json --drop --jsonArray --file realdonaldtrump-tweets.json</b><br />\n",
    "The following code will print out the text of all the tweets that have \"Hillary\"."
   ]
  },
  {
   "cell_type": "code",
   "execution_count": 13,
   "metadata": {},
   "outputs": [
    {
     "name": "stdout",
     "output_type": "stream",
     "text": [
      "Vladimir Putin said today about Hillary and Dems: \"In my opinion, it is humiliating. One must be able to lose with dignity.\"  So true!\n",
      "The so-called \"A\" list celebrities are all wanting tixs to the inauguration, but look what they did for Hillary, NOTHING. I want the PEOPLE!\n",
      "I have not heard any of the pundits or commentators discussing the fact that I spent FAR LESS MONEY on the win than Hillary on the loss!\n",
      "Campaigning to win the Electoral College is much more difficult &amp; sophisticated than the popular vote. Hillary focused on the wrong states!\n",
      "Are we talking about the same cyberattack where it was revealed that head of the DNC illegally gave Hillary the questions to the debate?\n",
      "If Russia, or some other entity, was hacking, why did the White House wait so long to act? Why did they only complain after Hillary lost?\n",
      "I thought that @CNN would get better after they failed so badly in their support of Hillary Clinton however, since election, they are worse!\n",
      ".@CNN is so embarrassed by their total  (100%) support of Hillary Clinton, and yet her loss in a landslide, that they don't know what to do.\n",
      "\"@sdcritic:  @HighonHillcrest @jeffzeleny @CNN There is NO QUESTION THAT #voterfraud did take place, and in favor of #CorruptHillary !\"\n",
      "Hillary Clinton conceded the election when she called me just prior to the victory speech and after the results were in. Nothing will change\n",
      "Hillary's debate answer on delay: \"That is horrifying. That is not the way our democracy works. Been around for 240 years. We've had free --\n",
      "Hey Missouri let's defeat Crooked Hillary &amp; @koster4missouri! Koster supports Obamacare &amp; amnesty! Vote outsider Navy SEAL @EricGreitens!\n",
      "If Obama worked as hard on straightening out our country as he has trying to protect and elect Hillary, we would all be much better off!\n",
      "'ICE OFFICERS WARN HILLARY IMMIGRATION PLAN WILL UNLEASH GANGS, CARTELS &amp; DRUG VIOLENCE NATIONWIDE'… https://t.co/09aSrBwQrv\n",
      "RT @TeamTrump: Mrs. Saucier's son is in prison for having classified info on an unsecured device. @HillaryClinton did FAR WORSE &amp; is runnin…\n",
      "RT @PaulaReidCBS: .@CBSNews confirms FBI found emails on #AnthonyWeiner computer, related to Hillary Clinton server, that are \"new\" &amp; not p…\n",
      "ObamaCare is a total disaster. Hillary Clinton wants to save it by making it even more expensive. Doesn't work, I will REPEAL AND REPLACE!\n",
      "#CrookedHillary is unfit to serve. https://t.co/bSuGvInNF1\n",
      "RT @T_Lineberger: Thanks @IvankaTrump for coming to help win Michigan! More people here than a Hillary rally with less than 24 hours notice…\n",
      "Crooked Hillary Clinton deleted 33,000 e-mails AFTER they were subpoenaed by the United States Congress. Guilty - cannot run. Rigged system!\n",
      "I am going to repeal and replace ObamaCare. We will have MUCH less expensive and MUCH better healthcare. With Hillary, costs will triple!\n",
      "You can change your vote in six states. So, now that you see that Hillary was a big mistake, change your vote to MAKE AMERICA GREAT AGAIN!\n",
      "Hillary Advisers Wanted Her To Avoid Supporting Israel When Talking To Democrats: https://t.co/y7m8iVU173\n",
      "After decades of lies and scandal, Crooked Hillary's corruption is closing in. #DrainTheSwamp! https://t.co/YivCacmkKq\n",
      "Crooked Hillary should not be allowed to run for president. She deleted 33,000 e-mails AFTER getting a subpoena from U.S. Congress. RIGGED!\n",
      "Wow, now leading in @ABC /@washingtonpost Poll 46 to 45. Gone up 12 points in two weeks, mostly before the Crooked Hillary blow-up!\n",
      "Look at the way Crooked Hillary is handling the e-mail case and the total mess she is in. She is unfit to be president. Bad judgement!\n",
      "#ObamacareFail #HillarycareFail https://t.co/gaXOWVI0Xa\n",
      "'Hillary's Two Official Favors To Morocco Resulted In $28 Million For Clinton Foundation' #DrainTheSwamp\n",
      "https://t.co/6qOO7FZSvF\n",
      "Hillary and the Dems loved and praised FBI Director Comey just a few days ago. Original evidence was overwhelming, should not have delayed!\n",
      "\"@piersmorgan: BOMBSHELL: FBI reopening its investigation into HillaryClinton's email server after new discovery!\n",
      "If my people said the things about me that Podesta &amp; Hillary's people said about her, I would fire them out of self respect. \"Bad instincts\"\n",
      "Just out: Neera Tanden, Hillary Clinton adviser said, “Israel is depressing.” I think Israel is inspiring!\n",
      "We must not let #CrookedHillary take her CRIMINAL SCHEME into the Oval Office. #DrainTheSwamp https://t.co/GtPkj4xIz6\n",
      "Crooked Hillary launched her political career by letting terrorists off the hook. #DrainTheSwamp… https://t.co/BLMkZQ8svK\n",
      "Hillary said she was under sniper fire (while surrounded by USSS.) Turned out to be a total lie. She is not fit to… https://t.co/hBIrGj21l6\n",
      "Obamacare is a disaster. Rates going through the sky - ready to explode. I will fix it. Hillary can't!\n",
      "#ObamacareFailed\n",
      "'Democratic operative caught on camera: Hillary PERSONALLY ordered 'Donald Duck' troll campaign that broke the law'\n",
      "https://t.co/sTreHAfYUH\n",
      "'Hillary Clinton Had Gun Control Supporters Planted In Town Hall Audience' https://t.co/1GVq74iW8a\n",
      "Wow, just came out on secret tape that Crooked Hillary wants to take in as many Syrians as possible. We cannot let this happen - ISIS!\n",
      "'Clinton Charity Got Up To $56 Million From Nations That Are Anti-Women, Gays' #CrookedHillary\n",
      "https://t.co/eHsuBdi8XM\n",
      "#CrookedHillary #PayToPlay https://t.co/BT1Nv0ZMYg\n",
      "\"If you can't run your own house you certainly can't run the White House\" A statement made by Mrs. Obama about Crooked Hillary Clinton\n",
      "Hillary Clinton: 'Architect of failure'\n",
      "#DrainTheSwamp #CrookedHillary\n",
      "https://t.co/b5HqsGrc7N\n",
      "Crooked Hillary Clinton Tops Middle East Forum’s ‘Islamist Money List'\n",
      "https://t.co/JC25rNtx6G\n",
      "\"@jensen4law: Best way to pay Hillary back for what she did to @BernieSanders #DNCleak is a DonaldTrump LANDSLIDE https://t.co/Ha8o5wCyGh\"\n",
      "WikiLeaks reveals Clinton camp’s work with ‘VERY friendly and malleable reporters’ \n",
      "#DrainTheSwamp #CrookedHillary\n",
      "https://t.co/bcYLslrxi0\n",
      "#CrookedHillary sending U.S. intelligence info. to Podesta’s hacked email is ‘unquestionably an OPSEC violation’ https://t.co/z58aeo4CO7\n",
      "\"{Crooked Hillary Clinton} created this mess, and she knows it.\" \n",
      "#DrainTheSwamp https://t.co/3cBNYjl5CD https://t.co/sjwkuq3nkk\n",
      "#CrookedHillary “was at center of negotiating $12M commitment from King Mohammed VI of Morocco” to Clinton Fdn. https://t.co/HWOQ7jQWY2\n",
      "Hillary &amp; Obama's Broken Promises. \n",
      "#RepealObamacare https://t.co/oz24r2xW7G\n",
      "Crooked Hillary promised 200k jobs in NY and FAILED. We'll create 25M jobs when I'm president, and I will DELIVER! https://t.co/NgyCkEH7Xn\n",
      "Why didn't Hillary Clinton announce that she was inappropriately given the debate questions - she secretly used them! Crooked Hillary.\n",
      "Want access to Crooked Hillary? Don't forget - it's going to cost you!\n",
      "#DrainTheSwamp #PayToPlay https://t.co/qjMBZkEnK9\n",
      "Thank you America! #MAGA\n",
      "\n",
      "Rasmussen National Poll\n",
      "Donald Trump 43%\n",
      "Hillary Clinton 40% https://t.co/n4eZ3qpcjg\n",
      "We cannot take four more years of Barack Obama and that’s what you’ll get if you vote for Hillary. #BigLeagueTruth\n",
      "HILLARY'S HEALTH CARE POLICIES\n",
      "#DrainTheSwamp #Debate https://t.co/t1Sr8dk2Xi\n",
      "RT @TeamTrump: What They Are Saying About @realDonaldTrump's GREAT Debate and @HillaryClinton's Bad Performance\n",
      "https://t.co/FGULnoDrkQ htt…\n",
      "After Crooked @HillaryClinton allowed ISIS to rise, she now claims she'll defeat them? LAUGHABLE! Here's my plan: https://t.co/FzRMObNQVn\n",
      "ISIS has infiltrated countries all over Europe by posing as refugees, and @HillaryClinton will allow it to happen h… https://t.co/MmeW2qsTQh\n",
      "I opposed going into Iraq. Hillary voted for it. As with everything else she's supported, it was a DISASTER. https://t.co/Um5WJXWfBZ\n",
      "HILLARY FAILED ALL OVER THE WORLD. #BigLeagueTruth  \n",
      "❌LIBYA\n",
      "❌SYRIA\n",
      "❌IRAN\n",
      "❌IRAQ\n",
      "❌ASIA PIVOT\n",
      "❌RUSSIAN RESET\n",
      "❌BENGHAZI… https://t.co/H1UH0svtt2\n",
      "Hillary says \"take back Mosul?\" We would have NEVER lost Mosul- if it wasn't for #CrookedHillary. #DrainTheSwamp https://t.co/TmsY0ApFLQ\n",
      "Crooked @HillaryClinton's foundation is a CRIMINAL ENTERPRISE. Time to #DrainTheSwamp!  https://t.co/89eOMTsIjt #BigLeagueTruth #Debate\n",
      "You should give the money back @HillaryClinton! #DrainTheSwamp https://t.co/m0LKHRUoHz\n",
      ".@HillaryClinton loves to lie. America has had enough of the CLINTON'S! It is time to #DrainTheSwamp! Debates https://t.co/3Mz4T7qTTR\n",
      "I will do more in the first 30 days in office than Hillary has done in the last 30 years! #Debate  #BigLeagueTruth https://t.co/tuNQePu8Vk\n",
      "#CrookedHillary is nothing more than a Wall Street PUPPET! #BigLeagueTruth #Debate https://t.co/skhBWG6AQ3\n",
      "Our country is stagnant. We’ve lost jobs and business. We don’t make things anymore b/c of the bill Hillary’s husband signed and she blessed\n",
      "Crooked Hillary has never created a job in her life. We will create 25 million jobs. Think she can do that? Not a c… https://t.co/64Kll0Dl7K\n",
      "RT @TeamTrump: .@realDonaldTrump will do more in the first 30 days in office than Hillary has done in the last 30 years! #Debate #BigLeague…\n",
      ".@HillaryClinton has been doing this for THIRTY YEARS....where has she been? #BigLeagueTruth\n",
      "Brought to you by @HillaryClinton &amp; her campaign- in Chicago, Illinois. \n",
      "#BigLeagueTruth #DrainTheSwamp https://t.co/10iUBOcECp\n",
      "#CrookedHillary gives Obama an “A” for an economic recovery that’s the slowest since WWII... #BigLeagueTruth… https://t.co/wVMFHdyCu2\n",
      "RT @TeamTrump: #CrookedHillary's plan will add $1.15 TRILLION in new taxes. We cannot afford her! #DrainTheSwamp #Debate https://t.co/jpjKY…\n",
      ".@HillaryClinton's tax hikes will CRUSH our economy. I will cut taxes -- BIG LEAGUE. https://t.co/EtA1tBnrNG https://t.co/NgMDP4wilI\n",
      ".@HillaryClinton has been a foreign policy DISASTER for the American people. I will #MakeAmericaStrongAgain #Debate… https://t.co/tj6PWM5r1J\n",
      "Moderator: Hillary plan calls for more regulation and more government spending. #Debate #BigLeagueTruth\n",
      "Hillary has called for 550% more Syrian immigrants, but won’t even mention “radical Islamic terrorists.” #Debate… https://t.co/Rf48XkZWbu\n",
      ".@HillaryClinton talking about jobs? Remember what she promised upstate New York. #BigLeagueTruth\n",
      "#Debates https://t.co/SmjNuHi7XB\n",
      ".@HillaryClinton- you have failed, failed, and failed. #BigLeagueTruth\n",
      "Time to #DrainTheSwamp! https://t.co/c2EiyU8XKK\n"
     ]
    },
    {
     "name": "stdout",
     "output_type": "stream",
     "text": [
      "This is what we can expect from #CrookedHillary. More Taxes. More Spending. #BigLeageTruth #DrainTheSwamp #Debates https://t.co/5yxnt0gNUF\n",
      "Moderator: Hillary paid $225,000 by a Brazilian bank for a speech that called for “open borders.” That’s a quote! #Debate #BigLeagueTruth\n",
      "Hillary is too weak to lead on border security-no solutions, no ideas, no credibility.She supported NAFTA, worst deal in US history. #Debate\n",
      "Hillary Clinton will use American tax dollars to provide amnesty for thousands of illegals. I will put… https://t.co/ZpV33TfbR6\n",
      "Hillary Clinton wants to create the most liberal Supreme Court in history #debate #DrainTheSwamp https://t.co/fKJBNXvluh\n",
      ".@HillaryClinton lists litany of ways she plans to restrict gun rights. 2A will not survive a Hillary presidency. #Debate #BigLeagueTruth\n",
      "'Top Hillary Adviser Mocked, Plotted Attacks on Pro-Sanders Civil Rights Leader' #DrainTheSwamp \n",
      "https://t.co/ER5FtjZgjw\n",
      "'Hillary Clinton Deleted Emails With Her Email Server Technician'\n",
      "https://t.co/VvO4lTKsaj\n",
      "Hillary is the most corrupt person to ever run for the presidency of the United States. #DrainTheSwamp https://t.co/xA3YO8YzCq\n",
      "Hillary’s Aides Urged Her to Take Foreign Lobbyist Donation And Deal With Attacks: https://t.co/o2qvr1myIZ\n",
      "Get rich quick! Crooked Hillary Clinton's pay to play guide: https://t.co/uKh5sCFfrv\n",
      "Crooked Hillary colluded w/FBI and DOJ and media is covering up to protect her. It's a #RiggedSystem! Our country d… https://t.co/kuinRTImVJ\n",
      "\"Journalists shower Hillary Clinton with campaign cash\"\n",
      "https://t.co/qZPPX0LO4X https://t.co/NsWbJN01Uu\n",
      "Voter fraud! Crooked Hillary Clinton even got the questions to a debate, and nobody says a word. Can you imagine if I got the questions?\n",
      "Animals representing Hillary Clinton and Dems in North Carolina just firebombed our office in Orange County because we are winning @NCGOP\n",
      "Wow, interview released by Wikileakes shows \"quid pro quo\" in Crooked Hillary e-mail probe.Such a dishonest person - &amp; Paul Ryan does zilch!\n",
      "Finally, in the new ABC News/Washington Post Poll, Hillary Clinton is down 11 points with WOMEN VOTERS and the election is close at 47-43!\n",
      "The Democrats have a corrupt political machine pushing crooked Hillary Clinton. We have Paul Ryan, always fighting the Republican nominee!\n",
      "The election is absolutely being rigged by the dishonest and distorted media pushing Crooked Hillary - but also at many polling places - SAD\n",
      "We've all wondered how Hillary avoided prosecution for her email scheme. Wikileaks may have found the answer. Obama! https://t.co/xF0wv8Oa8q\n",
      "Hillary's staff thought her email scandal might just blow over. Who would trust these people with national security? https://t.co/EvBCQoZRG2\n",
      "A country that Crooked Hillary says has funded ISIS also gave Wild Bill $1 million for his birthday? SO CORRUPT! https://t.co/00s5tgsXrM\n",
      "Hillary Clinton should have been prosecuted and should be in jail. Instead she is running for president in what looks like a rigged election\n",
      "This election is being rigged by the media pushing false and unsubstantiated charges, and outright lies, in order to elect Crooked Hillary!\n",
      "Crooked Hillary Clinton likes to talk about the things she will do but she has been there for 30 years - why didn't she do them?\n",
      "PAY TO PLAY POLITICS. \n",
      "#CrookedHillary https://t.co/wjsl8ITVvk\n",
      "Wow, @CNN Town Hall questions were given to Crooked Hillary Clinton in advance of big debates against Bernie Sanders. Hillary &amp; CNN FRAUD!\n",
      "Disloyal R's are far more difficult than Crooked Hillary. They come at you from all sides. They don’t know how to win - I will teach them!\n",
      "I hope people are looking at the disgraceful behavior of Hillary Clinton as exposed by WikiLeaks. She is unfit to run.\n",
      "Wow, @CNN got caught fixing their \"focus group\" in order to make Crooked Hillary look better. Really pathetic and totally dishonest!\n",
      "Hypocrite: @HillaryClinton is the single biggest beneficiary of Citizens United in history, by far. #debate #bigleaguetruth\n",
      "RT @DonaldJTrumpJr: Ironic since Hillary has gotten a lot more of that \"dark unaccountable money\" into her campaign. #debates\n",
      "RT @KellyannePolls: After a decent first debate, @HillaryClinton is back to form: pedantic, lawyerly, technocratic, (woefully untruthful) r…\n",
      "If @HillaryClinton is president, she’ll be all talk and nothing will get done. #Debate #BigLeagueTruth\n",
      "We agree @POTUS-\n",
      "\n",
      "\"SHE'LL (Hillary Clinton) SAY ANYTHING &amp; CHANGE NOTHING. IT'S TIME TO TURN THE PAGE\" -President Obama\n",
      "RT @TeamTrump: .@HillaryClinton had her chance and she BLEW IT. #BigLeagueTruth #Debates https://t.co/d2MI0DCg5Y\n",
      "RT @JasonMillerinDC: Is @realDonaldTrump debating Crooked @HillaryClinton or the moderators, @AC360 and @MarthaRaddatz? #rattledhillary\n",
      "RT @TeamTrump: #RattledHillary wants to talk about her 30 years in service. How about her 30 years of FLOPS↔️FLOPS?! #BigLeagueTruth #Debat…\n",
      "Here are Hillary Clinton's \"accomplishments\" at the State Department.\n",
      "#Debates2016 #RattledHillary https://t.co/iouuqXYAdq\n",
      "RT @TeamTrump: .@HillaryClinton is RAISING your taxes to a disastrous level. @realDonaldTrump is going to LOWER your taxes - BIG LEAGUE! #D…\n",
      "History lesson: There’s a big difference between Hillary Clinton and Abraham Lincoln. For one, his nickname is Hone… https://t.co/A5JDkz1eCE\n",
      "Hypocrite! @HillaryClinton claims she needs a “public and a private stance” in discussions with Wall Street banks. #Debate\n",
      "\"YOU NEED BOTH A PUBLIC AND A PRIVATE POSITION\"\n",
      "@HillaryClinton #Debates2016 https://t.co/oI2qi2HAdO\n",
      ".@HillaryClinton - ITS CALLED EXTREME VETTING! #Debates2016 https://t.co/ueq7cbOg9Y\n",
      "#CrookedHillary has FAILED all over the world! 􏰀 \n",
      "#BigLeagueTruth #Debates2016 https://t.co/dalk9JKcFg\n",
      "RT @realDonaldTrump: ATTN: @HillaryClinton - Why did five of your staffers need FBI IMMUNITY?! #BigLeagueTruth #Debates\n",
      ".@HillaryClinton #ICYMI- \"WE ARE NOT IN A NARRATIVE FIGHT.\"\n",
      "@Mike_Pence #MAGA https://t.co/FUQzXlyPwY\n",
      ".@HillaryClinton : Bill “clarified” what he meant when calling Obamacare a “disaster.” Actually “disaster” is pretty clear. #Debate\n",
      ".@HillaryClinton is NOT above the law!\n",
      "#Debates2016 https://t.co/4arYZcGgYZ\n",
      "ATTN: @HillaryClinton - Why did five of your staffers need FBI IMMUNITY?! #BigLeagueTruth #Debates\n",
      "Hillary’s 33,000 deleted emails about her daughter’s wedding. That’s a lot of wedding emails. #debate\n",
      "Basically nothing Hillary has said about her secret server has been true. #CrookedHillary\n",
      "RT @TeamTrump: RT if you believe @HillaryClinton is the one who owes America an apology! #BigLeagueTruth #Debates https://t.co/KcmDedSUTw\n",
      "RT @TeamTrump: Quite simply, @HillaryClinton mistreats women. #BigLeagueTruth #Debate2016\n",
      "https://t.co/zhgrulIctf https://t.co/wHtwtnCxxQ\n",
      "Exclusive Video–Broaddrick, Willey, Jones to Bill's Defenders: ‘These Are Crimes,’ ‘Terrified’ of ‘Enabler’ Hillary \n",
      "https://t.co/DMfLsIbtU1\n",
      "LA Times- USC Dornsife Sunday Poll: Donald Trump Retains 2 Point Lead Over Hillary:\n",
      "https://t.co/n05rul4Ycw\n",
      "RT @TeamTrump: .@HillaryClinton just claimed she has a \"positive, optimistic view\" for America. #Debates https://t.co/hOWJYZbD7v\n",
      "RT @atensnut: Hillary calls Trump's remarks \"horrific\" while she lives with and protects a \"Rapist\".  Her actions are horrific.\n",
      "\"@FLifeforce: @_CFJ_ @vine That is a reason to NOT Vote for Hillary Clinton. Vote for Liberty! Vote for @realDonaldTrump\"\n",
      ".@HillaryClinton’s Careless Use Of A Secret Server Put National Security At Risk: https://t.co/OiAEMnrGcy #VPDebate\n",
      "#BigLeagueTruth\n",
      "RT @TeamTrump: RT if you agree - @HillaryClinton &amp; @timkaine are WRONG for America! #VPDebate #MAGA https://t.co/2MZfFzCo6c\n",
      "RT @TeamTrump: .@HillaryClinton &amp; @timkaine think you're #Deplorables &amp; #BasementDwellers. @realDonaldTrump &amp; @mike_pence think you're PATR…\n",
      ".@HillaryClinton Sneers At Millions Of Average Americans.\n",
      "https://t.co/gEfURjRCfu \n",
      "#VPDebate #BigLeagueTruth\n",
      "\"@carol_lcnixon67: @realDonaldTrump Kaine says Hillary and he have plans. She could care less what Kaine thinks.\"\n",
      "Wow, did you just hear Bill Clinton's statement on how bad ObamaCare is. Hillary not happy. As I have been saying, REPEAL AND REPLACE!\n",
      "RT @TeamTrump: .@timkaine has a pay-to-play problem just like Crooked @HillaryClinton #VPDebates #BigLeagueTruth https://t.co/SPOIn8AN8m\n",
      "Bernie should pull his endorsement of Crooked Hillary after she decieved him and then attacked him and his supporters.\n",
      "I have created tens of thousands of jobs and will bring back great American prosperity. Hillary has only created jobs at the FBI and DOJ!\n",
      "Wow, just saw the really bad @CNN ratings. People don't want to watch bad product that only builds up Crooked Hillary.\n",
      "Why isn't Hillary 50 points ahead? Maybe it's the email scandal, policies that spread ISIS, or calling millions of… https://t.co/yKz9vCz8O1\n",
      "Did Crooked Hillary help disgusting (check out sex tape and past) Alicia M become a U.S. citizen so she could use her in the debate?\n",
      "Using Alicia M in the debate as a paragon of virtue just shows that Crooked Hillary suffers from BAD JUDGEMENT! Hillary was set up by a con.\n",
      "Wow, Crooked Hillary was duped and used by my worst Miss U. Hillary floated her as an \"angel\" without checking her past, which is terrible!\n",
      "While Hillary profits off the rigged system, I am fighting for you! Remember the simple phrase: #FollowTheMoney… https://t.co/8mVInc82E9\n",
      "Thank you Council Bluffs, Iowa! Will be back soon. Remember- everything you need to know about Hillary -- just… https://t.co/45kIHxdX83\n",
      "Hillary Clinton's Campaign Continues To Make False Claims About Foundation Disclosure: \n",
      "https://t.co/zhkEfUouHH\n",
      "Hillary's been failing for 30 years in not getting the job done - it will never change.\n",
      "'True blue-collar billionaire Donald Trump shows Hillary Clinton is out of touch' https://t.co/NHO1OicfVm\n",
      "I really enjoyed the debate last night.Crooked Hillary says she is going to do so many things.Why hasn't she done them in her last 30 years?\n",
      ".@HillaryClinton’s Nuclear Agreement Paved The Way For The $400 Million Ransom Payment #DebateNight\n",
      "https://t.co/qfZTx6aKYs\n",
      ".@HillaryClinton - Obama #ISIS Strategy Has Allowed It To Expand To Become A Global Threat #DebateNight https://t.co/f7PctDE31L\n",
      "Russia has more warheads than ever, N Korea is testing nukes, and Iran got a sweetheart deal to keep theirs. Thanks, @HillaryClinton.\n",
      "RT @TeamTrump: .@realDonaldTrump calling out @HillaryClinton's support for NAFTA = most searched moment during tonight's debate. #Debates20…\n",
      "Hillary Clinton failed all over the world. \n",
      "❌LIBYA\n",
      "❌SYRIA\n",
      "❌IRAN\n",
      "❌IRAQ\n",
      "❌ASIA PIVOT\n",
      "❌RUSSIAN RESET\n",
      "❌BENGHAZI… https://t.co/OoakXs2rij\n",
      "Hillary Clinton is the only candidate on stage who voted for the Iraq War. #Debates2016 #MAGA https://t.co/Um5WJXEEKr\n",
      "RT @TeamTrump: 100% TRUE --&gt; @realDonaldTrump is right - @HillaryClinton did call TPP ‘the gold standard’ #Debates2016 \n",
      "https://t.co/W7L7a9…\n",
      ".@HillaryClinton's 2008 Campaign And Supporters Trafficked In Rumors About Obama's Heritage #DebateNight \n",
      "https://t.co/6EEOAaCiNv\n",
      "RT @TeamTrump: Hillary's policies have made America less safe, that's why 200+ general and military leaders have endorsed @realDonaldTrump!…\n",
      "This is the simple fact about @HillaryClinton: she is a typical politician - all talk, no action. #Debates2016\n",
      "HILLARY'S BAD TAX HABIT! https://t.co/x3FBy8Hdq2\n",
      ".@HillaryClinton has been part of the rigged DC system for 30 years? Why would we take policy advice from her? #Debates2016\n",
      ".@HillaryClinton channels John Kerry on trade: she was for bad trade deals before she was against them. #TPP #Debates2016\n",
      ".@HillaryClinton and Obama policies increased debt by $9trillion over the last 8 years\n",
      "Why isn't Hillary Clinton 50 points ahead?\n",
      "#DebateNight https://t.co/iux7icIkaT\n",
      "RT @KellyannePolls: #Polls showing @realDonaldTrump surging, @hillaryclinton #slipping, have HER camp on defense/lowering expectations, goi…\n",
      "Bernie Sanders gave Hillary the Dem nomination when he gave up on the e-mails. That issue has only gotten bigger!\n",
      "Many on the team and staff of Bernie Sanders have been treated badly by the Hillary Clinton campaign - and they like Trump on trade, a lot!\n",
      "Hillary Clinton just lost every Republican she ever had, including Never Trump, all farmers &amp; sm. biz, by saying she’ll tax estates at 65%.\n",
      "Crooked Hillary's bad judgement forced her to announce that she would go to Charlotte on Saturday to grandstand. Dem pols said no way, dumb!\n",
      "Hillary Clinton is taking the day off again, she needs the rest. Sleep well Hillary - see you at the debate!\n",
      "Do people notice Hillary is copying my airplane rallies - she puts the plane behind her like I have been doing from the beginning.\n",
      "Hillary Clinton's weakness while she was Secretary of State, has emboldened terrorists all over the world..cont: https://t.co/E5BdTiwlur\n",
      "Crooked Hillary has been fighting ISIS, or whatever she has been doing, for years. Now she has new ideas. It is time for change.\n",
      "The failing @nytimes has gone nuts that Crooked Hillary is doing so badly. They are willing to say anything, has become a laughingstock rag!\n",
      "Crooked Hillary wants to take your 2nd Amendment rights away. Will guns be taken from her heavily armed Secret Service detail? Maybe not!\n",
      "Why isn't President Obama working instead of campaigning for Hillary Clinton?\n",
      "Hillary Clinton just had her 47% moment. What a terrible thing she said about so many great Americans!\n",
      "While Hillary said horrible things about my supporters, and while many of her supporters will never vote for me, I still respect them all!\n",
      "Wow, Hillary Clinton was SO INSULTING to my supporters, millions of amazing, hard working people. I think it will cost her at the Polls!\n",
      "It wasn't Matt Lauer that hurt Hillary last night. It was her very dumb answer about emails &amp; the veteran who said she should be in jail.\n",
      "Hillary Clinton answered email questions differently last night than she has in the past. She is totally confused. Unfit to serve as #POTUS.\n",
      "Hillary just gave a disastrous news conference on the tarmac to make up for poor performance last night. She's being decimated by the media!\n",
      "\"A rough night for Hillary Clinton\"  ABC News.\n",
      "'Donald Trump leads Hillary Clinton by 19 points among military, veteran voters: poll' #AmericaFirst #MAGA\n",
      "https://t.co/5FmxGtLkwt\n",
      "Mainstream media never covered Hillary’s massive “hacking”\n",
      "or coughing attack, yet it is #1 trending. What’s up?\n",
      "Lyin' Hillary Clinton told the FBI that she did not know the \"C\" markings on documents stood for CLASSIFIED. How can this be happening?\n",
      "\"@lblackvelvet: @realDonaldTrump We need to show Americans that Hillary will KILL our Country !! Vote for Trump !!\"\n",
      "The polls are close so Crooked Hillary is getting out of bed and will campaign tomorrow.Why did she hammer 13 devices and acid-wash e-mails?\n",
      "Crooked Hillary's V.P. pick said this morning that I was not aware that Russia took over Crimea. A total lie - and taken over during O term!\n",
      ".@CNN is so disgusting in their bias, but they are having a hard time promoting Crooked Hillary in light of the new e-mail scandals.\n",
      "\"@CherNuna: @realDonaldTrump It defies belief the Web of Lies Hillary is spinning! One excuse after another. Then it's this, then it's that.\n",
      "Hillary Clinton doesn't have the strength or the stamina to MAKE AMERICA GREAT AGAIN! #AmericaFirst\n",
      "https://t.co/G1MuLrjhW9\n",
      "Hillary Clinton didn't go to Louisiana, and now she didn't go to Mexico. She doesn't have the drive or stamina to MAKE AMERICA GREAT AGAIN!\n",
      "Now that African-Americans are seeing what a bad job Hillary type policy and management has done to the inner-cities, they want TRUMP!\n",
      "Crooked Hillary's brainpower is highly overrated.Probably why her decision making is so bad or, as stated by Bernie S, she has BAD JUDGEMENT\n",
      "Does anyone know that Crooked Hillary, who tried so hard, was unable to pass the Bar Exams in Washington D.C. She was forced to go elsewhere\n",
      "\"@PMNOrlando: @realDonaldTrump I know of NO ONE voting for Crooked Hillary! Her rallies are held in (blank)  &amp; she still has room.\n",
      "#CrookedHillary https://t.co/vXhcC8PaPy\n",
      "I think that both candidates, Crooked Hillary and myself, should release detailed medical records. I have no problem in doing so! Hillary?\n",
      "\"@LindaHarden: @realDonaldTrump America loves Trump and @mike_pence -- praying for you every day. Stay strong. #TrumpPence2016 #NeverHillary\n",
      "RT @FoxNews: Poll: @realDonaldTrump vs. @HillaryClinton among white Evangelicals. https://t.co/6ohwIh1Q24\n",
      "\"@DiamondandSilk: Crooked Hillary getting desperate. On TV bashing Trump. @CNN, she forgot how she said a KKK member was her mentor.\n",
      "\"@GoldJazz559: #BlackMenForBernie Leader: #Hillary2016 ‘No Regard For Black Race’ https://t.co/m8952Ly3Jb via @dailycaller #BlacksForTrump\n",
      "Army training slide lists Hillary Clinton as insider threat: https://t.co/CQTSo2ETJF\n",
      "Meet the ‘Trumpocrats’: Lifelong Democrats Breaking w/ Party Over Hillary to Support Donald Trump for President: https://t.co/g2N3JJWV8a\n",
      "How quickly people forget that Crooked Hillary called African-American youth \"SUPER PREDATORS\" - Has she apologized?\n",
      "\"Hillary Clinton Deleted Emails Using Program Intended To Prevent Recovery\" #CrookedHillary https://t.co/D0MeBJXBwN\n",
      "Crooked Hillary will NEVER be able to solve the problems of poverty, education and safety within the African-American &amp; Hispanic communities\n",
      "\"@foxnation: Flashback: Hillary Clinton Praised Former KKK Member Robert Byrd as 'Friend and Mentor': https://t.co/e0Hb2rLb1X\"\n",
      "Hillary Clinton only knows how to make a speech when it is a hit on me. No policy, and always very short (stamina). Media gives her a pass!\n",
      "Hillary Clinton is using race-baiting to try to get African-American voters- but they know she is all talk and NO ACTION!\n",
      "\"Hillary Clinton needs to address the racist undertones of her 2008 campaign.\" #FlashbackFriday https://t.co/MJQp0rcnzH\n",
      "Hillary Clinton's short speech is pandering to the worst instincts in our society. She should be ashamed of herself!\n",
      "Just watched recap of #CrookedHillary's speech. Very short and lies. She is the only one fear-mongering!\n",
      "Hillary Clinton strongly stated  that there was \"absolutely no connection\" between her private work and that of The State Department. LIE!\n",
      "\"@Jimbos2002:  @Morning_Joe Video: Hillary referring to blacks as super predators that need to be brought to heel. https://t.co/pMIHWayMRw\"\n",
      "Crooked Hillary is flooding the airwaves with false and misleading ads - all paid for by her bosses on Wall Street. Media is protecting her!\n",
      "#WheresHillary? Sleeping!!!!!\n",
      "A vote for Hillary Clinton is a vote for another generation of poverty, high crime, &amp; lost opportunities. #ImWithYou\n",
      "https://t.co/Eph6qy7zyB\n",
      "#CrookedHillary #ThrowbackThursday https://t.co/v8J0r64J7h\n",
      "I am not only fighting Crooked Hillary, I am fighting the dishonest and corrupt media and her government protection process. People get it!\n",
      "Crooked Hillary Clinton is being protected by the media. She is not a talented person or politician. The dishonest media refuses to expose!\n",
      "If the disgusting and corrupt media covered me honestly and didn't put false meaning into the words I say, I would be beating Hillary by 20%\n",
      "The failing @nytimes talks about anonymous sources and meetings that never happened. Their reporting is fiction. The media protects Hillary!\n",
      "ISIS gained tremendous strength during Hillary Clinton's term as Secretary of State. When will the dishonest media report the facts!\n",
      "A massive tax increase will be necessary to fund Crooked Hillary Clinton's agenda. What a terrible (and boring) rollout that was yesterday!\n",
      "\"@elsolarverde: THE CORRUPT MEDIA CREATS CONTROVERSY AGAINST @realDonaldTrump TO AVOID ISSUES ABOUT HillaryClinton https://t.co/RW5UcWLfA8\"\n",
      "RT @NRA: But there IS something we will do on #ElectionDay: Show up and vote for the #2A! #DefendtheSecond #NeverHillary\n",
      "RT @NRA: .@RealDonaldTrump is right. If @HillaryClinton gets to pick her anti-#2A #SCOTUS judges, there’s nothing we can do. #NeverHillary\n",
      "\"@LinHen23:  @foxandfriends Loved Trump's answers to voters questions this morning! Trump's economic plan will help #MAGA #NeverHillary\"\n",
      "When is the media going to talk about Hillary's policies that have gotten people killed, like Libya, open borders, and maybe her emails?\n",
      "Many people are saying that the Iranians killed the scientist who helped the U.S. because of Hillary Clinton's hacked emails.\n",
      "I am not just running against Crooked Hillary Clinton, I am running against the very dishonest and totally biased media - but I will win!\n",
      "Heading to New Hampshire - will be talking about Hillary saying her brain SHORT CIRCUITED, and other things!\n",
      "#CrookedHillary is not fit to be our next president! #TrumpPence16 \n",
      "https://t.co/I0zJO2sZKk\n",
      "Crooked Hillary said loudly, and for the world to see, that she \"SHORT CIRCUITED\" when answering a question on her e-mails. Very dangerous!\n",
      "Hillary Clinton is being badly criticized for her poor performance in answering questions. Let us all see what happens!\n",
      "DON'T LET HILLARY CLINTON DO IT AGAIN!\n",
      "#TrumpPence16\n",
      "https://t.co/1mGkPNZPKF\n",
      "Hillary Clinton has bad judgment and is unfit to serve as President.\n",
      "https://t.co/3EzG620fpT\n",
      "Our incompetent Secretary of State, Hillary Clinton, was the one who started talks to give 400 million dollars, in cash, to Iran. Scandal!\n",
      "The Washington Post calls out #CrookedHillary for what she REALLY is. A PATHOLOGICAL LIAR! Watch that nose grow! https://t.co/FsrUGByuuD\n",
      "#CrookedHillary https://t.co/xe0I0EmxMa\n",
      "Hillary Clinton raked in money from regimes that horribly oppress women and gays &amp; refuses to speak out against Radical Islam.\n",
      "Hillary, whose decisions have led to the deaths of many, accepted $ from a business linked to ISIS. Silence at CNN. https://t.co/gJYSSXtpaz\n",
      "When will CNN do a segment on Hillary’s plan to increase Syrian refugees 550% and how much it will cost?\n",
      "Crooked Hillary Clinton is 100% owned by her donors. #ImWithYou #MAGA https://t.co/iYM3CCWS2z\n",
      "People believe CNN these days almost as little as they believe Hillary....that's really saying something!\n",
      "The people who support Hillary sit behind CNN anchor chairs, or headline fundraisers - those disconnected from real life.\n",
      "Will CNN send its cameras to the border to show the massive unreported crisis now unfolding -- or are they worried it will hurt Hillary?\n",
      "When will we see stories from CNN on Clinton Foundation corruption and Hillary's pay-for-play at State Department?\n",
      "CNN will soon be the least trusted name in news if they continue to be the press shop for Hillary Clinton.\n",
      "#CrookedHillary \n",
      "https://t.co/oHI6xrDJU0\n",
      "\"@RealJamesWoods:  Without absolutely OWNING the liberal media, HillaryClinton wouldn't stand a chance. #VoterFraud and #MSM her only hope.\"\n",
      "I was viciously attacked by Mr. Khan at the Democratic Convention. Am I not allowed to respond? Hillary voted for the Iraq war, not me!\n",
      "Can you imagine if I had the small crowds that Hillary is drawing today in Pennsylvania. It would be a major media event! @CNN @FoxNews\n",
      "Thank you to all of the television viewers that made my speech at the Republican National Convention #1 over Crooked Hillary and DEMS.\n",
      "Word is that Crooked Hillary has very small and unenthusiastic crowds in Pennsylvania. Perhaps it is because her husband signed NAFTA?\n",
      "Why doesn't the media want to report that on the two \"Big Thursdays\" when Crooked Hillary and I made our speeches - Republican's won ratings\n",
      "#CrookedHillary = Obama's third term, which would be terrible news for our economic growth - seen below. https://t.co/y9WJoUaaql\n",
      "We are suffering through the worst long-term unemployment in the last 70 years. I want change - Crooked Hillary Clinton does not.\n",
      "#CrookedHillary https://t.co/xyoPFJmByp\n",
      "Hillary can never win over Bernie supporters. Her foreign wars, \n",
      "NAFTA/TPP support &amp; Wall Street ties are driving away millions of votes.\n",
      "As usual, Hillary &amp; the Dems are trying to rig the debates so 2 are up against major NFL games. Same as last time w/ Bernie. Unacceptable!\n",
      "Hillary Clinton should not be given national security briefings in that she is a lose cannon with extraordinarily bad judgement &amp; insticts.\n",
      "#CrookedHillary Job Application https://t.co/CKXkAlGSiV\n",
      "Crooked Hillary Clinton is soft on crime, supports open borders, and wants massive tax hikes. A formula for disaster!\n",
      "I am watching Crooked Hillary speak. Same old stuff, our country needs change!\n",
      "Wow, my campaign is hearing from more and more Bernie supporters that they will NEVER support Crooked Hillary. She sold them out, V.P. pick!\n",
      "What Bernie Sanders really thinks of Crooked Hillary Clinton. https://t.co/VgMaAsZBep\n",
      "Crooked Hillary said that I \"couldn't handle the rough and tumble of a political campaign.\" Really,I just beat 16 people and am beating her!\n",
      "In Hillary Clinton's America - things get worse. #TrumpPence16 https://t.co/WdHbnhhCbW\n",
      "If Michael Bloomberg ran again for Mayor of New York, he wouldn't get 10% of the vote - they would run him out of town!  #NeverHillary\n",
      "Crooked Hillary Clinton mentioned me 22 times in her very long and very boring speech. Many of her statements were lies and fabrications!\n",
      "General John Allen, who I never met but spoke against me last night, failed badly in his fight against ISIS. His record = BAD  #NeverHillary\n",
      "Crooked Hillary Clinton made up facts about me, and \"forgot\" to mention the many problems of our country, in her very average scream!\n",
      "No one has worse judgement than Hillary Clinton - corruption and devastation follows her wherever she goes.\n",
      "Hillary's wars in the Middle East have unleashed destruction, terrorism and ISIS across the world.\n",
      "Hillary's vision is a borderless world where working people have no power, no jobs, no safety.\n",
      "Hillary will never reform Wall Street. She is owned by Wall Street!\n",
      "Our way of life is under threat by Radical Islam and Hillary Clinton cannot even bring herself to say the words.\n",
      "Hillary's refusal to mention Radical Islam, as she pushes a 550% increase in refugees, is more proof that she is unfit to lead the country.\n",
      "#CrookedHillary https://t.co/JeXFnO6e3s\n",
      "RT @piersmorgan: Trump makes a funny, obvious joke about Russia going after Hillary's emails &amp; U.S. media goes insane with fury.\n",
      "He plays t…\n",
      "RT @DRUDGE_REPORT: Obama Refers to Himself 119 Times During Hillary Nominating Speech... https://t.co/TyJI2DuqEk\n",
      "#CrookedHillary https://t.co/lwi9gqDEHE\n",
      "If Russia or any other country or person has Hillary Clinton's 33,000 illegally deleted emails, perhaps they should share them with the FBI!\n",
      "Crooked Hillary Clinton wants to flood our country with Syrian immigrants that we know little or nothing about. The danger is massive. NO!\n",
      "As I have been saying, Crooked Hillary will approve the job killing TPP after the election, despite her statements to the contrary: top adv.\n",
      "Dems don't want to talk ISIS b/c Hillary's foreign interventions unleashed ISIS &amp; her refugee plans make it easier for them to come here.\n",
      "The invention of email has proven to be a very bad thing for Crooked Hillary in that it has proven her to be both incompetent and a liar!\n",
      "Just like I have warned from the beginning, Crooked Hillary Clinton will betray you on the TPP. \n",
      "https://t.co/eoNTWK6I8y\n",
      "Bernie Sanders totally sold out to Crooked Hillary Clinton. All of that work, energy and money, and nothing to show for it! Waste of time.\n",
      "Elizabeth Warren, often referred to as Pocahontas, just misrepresented me and spoke glowingly about Crooked Hillary, who she always hated!\n",
      "Great POLL numbers are coming out all over. People don't want another four years of Obama, and Crooked Hillary would be even worse. #MAGA\n",
      "The State of Florida is so embarrassed by the antics of Crooked Hillary Clinton and Debbie Wasserman Schultz that they will vote for CHANGE!\n",
      "Here we go again with another Clinton scandal, and e-mails yet (can you believe). Crooked Hillary knew the fix was in, B never had a chance!\n",
      "Crooked Hillary Clinton knew everything that her \"servant\" was doing at the DNC - they just got caught, that's all! They laughed at Bernie.\n",
      "Hillary was involved in the e-mail scandal because she is the only one with judgement so bad that such a thing could have happened!\n",
      "Watched Crooked Hillary Clinton and Tim Kaine on 60 Minutes. No way they are going to fix America's problems. ISIS &amp; all others laughing!\n",
      "The highly neurotic Debbie Wasserman Schultz is angry that, after stealing and cheating her way to a Crooked Hillary victory, she's out!\n",
      "Even though Bernie Sanders has lost his energy and his strength, I don't believe that his supporters will let Crooked Hillary off the hook!\n",
      "Crooked Hillary Clinton was not at all loyal to the person in her rigged system that pushed her over the top, DWS. Too bad Bernie flamed out\n",
      "The Crooked Hillary V.P. choice is VERY disrespectful to Bernie Sanders and all of his supporters. Just another case of BAD JUDGEMENT by H!\n",
      "\"@NancyNielsenn: @realDonaldTrump Dinesh D'Sousa Hillary's America. see it\"\n",
      "Just saw Crooked Hillary and Tim Kaine together. ISIS and our other enemies are drooling. They don't look presidential to me!\n",
      "\"@OliMauritania: @realDonaldTrump Kaine supported the stupidest deal in the history of deals https://t.co/0FFeKTsuJn #HillaryKaine2016\"\n",
      "Crooked Hillary Clinton has destroyed jobs and manufacturing in Pennsylvania. Against steelworkers and miners. Husband signed NAFTA.\n",
      "Pocahontas wanted V.P. slot so badly but wasn't chosen because she has done nothing in the Senate. Also, Crooked Hillary hates her!\n",
      "The media is spending more time doing a forensic analysis of Melania's speech than the FBI spent on Hillary's emails.\n",
      ".@FoxNews is much better, and far more truthful, than @CNN, which is all negative. Guests are stacked for Crooked Hillary! I don't watch.\n",
      "I hope that Crooked Hillary picks Goofy Elizabeth Warren, sometimes referred to as Pocahontas, as her V.P. Then we can litigate her fraud!\n",
      "It doesn't matter that Crooked Hillary has experience, look at all of the bad decisions she has made. Bernie said she has bad judgement!\n",
      "As the days and weeks go by,  we see what a total mess our country (and world) is in - Crooked Hillary Clinton led Obama into bad decisions!\n",
      "Very sad that a person who has made so many mistakes, Crooked Hillary Clinton, can put out such false and vicious ads with her phony money!\n",
      "Crooked Hillary, who embarrassed herself and the country with her e-mail lies, has been a DISASTER on foreign policy. Look what's happening!\n",
      "Crooked Hillary is spending big Wall Street money on ads saying I don't have foreign policy experience, yet look what her policies have done\n",
      "Four more years of weakness with a Crooked Hillary Administration is not acceptable. Look what has happened to the world with O &amp; Hillary!\n",
      "Crooked Hillary Clinton is bought and paid for by Wall Street, lobbyists and special interests. She will sell our country down the tubes!\n",
      "I employ many people in the State of Virginia - JOBS, JOBS, JOBS! Crooked Hillary will sell us out, just like her husband did with NAFTA.\n",
      "Voters understand that Crooked Hillary's negative ads are not true- just like her email lies and her other fraudulent activity.\n",
      "Despite spending $500k a day on TV ads alone #CrookedHillary falls flat in nationwide @QuinnipiacPoll. Having ZERO impact. Sad!!\n",
      "Lyin' Crooked Hillary's email stories all have one thing in common. https://t.co/teoVCYXKOR\n",
      "#CrookedHillary is outspending me by a combined 31 to 1 in Florida, Ohio, &amp; Pennsylvania. I haven't started yet! https://t.co/BcoPrwqFMe\n",
      "Thank you Florida, Ohio, and Pennsylvania! #CrookedHillary is not qualified. #ImWithYou https://t.co/M1yzgyeEdY\n",
      "Bernie sanders has abandoned his supporters by endorsing pro-war pro-TPP pro-Wall Street Crooked Hillary Clinton.\n",
      "Bernie Sanders endorsing Crooked Hillary Clinton is like Occupy Wall Street endorsing Goldman Sachs.\n",
      "The American people agree. No free pass for #CrookedHillary! https://t.co/lTjLVKkzh1\n",
      "#CrookedHillary is not qualified!\n",
      "https://t.co/6qi7KTW43O\n",
      "Bernie Sanders, who has lost most of his leverage, has totally sold out to Crooked Hillary Clinton. He will endorse her today - fans angry!\n",
      "Look what is happening to our country under the WEAK leadership of Obama and people like Crooked Hillary Clinton. We are a divided nation!\n",
      "After today, Crooked Hillary can officially be called Lyin' Crooked Hillary.\n",
      "Isn't it sad that on a day of national tragedy Hillary Clinton is answering softball questions about her email lies on @CNN?\n",
      "To all of my twitter followers, please contribute whatever you can to the campaign. We must beat Crooked Hillary. https://t.co/Xv8Q1GuWiH\n",
      "Convention speaker schedule to be released tomorrow. Let today be devoted to Crooked Hillary and the rigged system under which we live.\n",
      "I have over seven million hits on social media re Crooked Hillary Clinton. Check it out Sleepy Eyes, @MarkHalperin @NBCPolitics\n",
      "Hillary Clinton should ask why the Democrat pols in Atlantic City made all the wrong moves - Convention Center, Airport - and destroyed City\n",
      "Crooked Hillary Clinton lied to the FBI and to the people of our country. She is sooooo guilty. But watch, her time will come!\n",
      "Crooked Hillary has once again been proven to be a person who is dishonest, incompetent and of very bad judgement.\n",
      "I don't think the voters will forget the rigged system that allowed Crooked Hillary to get away with \"murder.\" Come November 8, she's out!\n",
      "The rigged system may have helped Hillary Clinton escape criminal charges, but...https://t.co/KO64IAMDgj https://t.co/8CBSfNpl2l\n",
      "Crooked Hillary Clinton is unfit to serve as President of the U.S. Her temperament is weak and her opponents are strong. BAD JUDGEMENT!\n",
      "FBI director said Crooked Hillary compromised our national security. No charges. Wow! #RiggedSystem\n",
      "Taxpayers are paying a fortune for the use of Air Force One on the campaign trail by President Obama and Crooked Hillary. A total disgrace!\n",
      "Crooked Hillary Clinton and her team \"were extremely careless in their handling of very sensitive, highly classified information.\" Not fit!\n",
      "Why is President Obama allowed to use Air Force One on the campaign trail with Crooked Hillary? She is flying with him tomorrow. Who pays?\n",
      "With Hillary and Obama, the terrorist attacks will only get worse. Politically correct fools, won't even call it what it is - RADICAL ISLAM!\n",
      "Crooked Hillary Clinton is \"guilty as hell\" but the system is totally rigged and corrupt! Where are the 33,000 missing e-mails?\n",
      "Crooked Hillary will NEVER be able to handle the complexities and danger of ISIS - it will just go on forever. We need change!\n",
      "I believe that Crooked Hillary sent Bill to have the meeting with the U.S.A.G. So Bill is not in trouble with H except that he got caught!\n",
      "Crooked Hillary Clinton knew that her husband wanted to meet with the U.S.A.G. to work out a deal. The system is totally rigged &amp; corrupt!\n",
      "Only a fool would believe that the meeting between Bill Clinton and the U.S.A.G. was not arranged or that Crooked Hillary did not know.\n",
      "It was just announced-by sources-that no charges will be brought against Crooked Hillary Clinton. Like I said, the system is totally rigged!\n",
      "It is impossible for the FBI not to recommend criminal charges against Hillary Clinton. What she did was wrong! What Bill did was stupid!\n",
      "Crooked Hillary -- Makes History! \n",
      "#ImWithYou #AmericaFirst https://t.co/PKQhYhMmIX\n",
      "As Bernie Sanders said, Hillary Clinton has bad judgement. Bill's meeting was probably initiated and demanded by Hillary!\n",
      "One of the reasons Hillary hid her emails was so the public wouldn't see how she got rich- selling out America. \n",
      "https://t.co/mO9QrmYXRD\n",
      "Why would college graduates want Crooked Hillary as their President? She will destroy them! \n",
      "https://t.co/S80xxdeHfG\n",
      "The story with Hillary will never change. https://t.co/h0Av3TAIiM\n",
      "\"@Gengm7: @jakeda @realDonaldTrump As of April this year, Hillary had spent $264,000,000 on her campaign Mr.Trump $55,000,000. self funding\"\n",
      "ISIS exploded on Hillary Clinton's watch- she's done nothing about it and never will. Not capable!\n",
      "Hillary Clinton’s Presidency would be catastrophic for\n",
      "the future of our country. She is ill-fit with bad judgment.\n",
      "Benghazi is just another Hillary Clinton failure. It just\n",
      "never seems to work the way it's supposed to with Clinton.\n",
      "Check it out - 2nd video on Lying Crooked Hillary is now online! Watch it here: \n",
      "https://t.co/5mtwkOvQnd \n",
      "#CrookedHillary #Trump2016\n",
      "The media is unrelenting. They will only go with and report a story in a negative light. I called Brexit (Hillary was wrong), watch November\n",
      "Crooked Hillary is wheeling out one of the least productive senators in the U.S. Senate, goofy Elizabeth Warren, who lied on heritage.\n",
      "\"@brazosboys: Hillary read \"sigh\" off the Teleprompter, She's so fake she has to be told how to feel: https://t.co/ENXliW2m77 @FoxNews\n",
      "Crooked Hillary Attacks Foreign Government Donations - While Ignoring Her Own: https://t.co/pr3BSHJSxL\n",
      "Crooked Hillary Clinton got Brexit wrong. I said LEAVE will win. She has no sense of markets and such bad judgement. Only a question of time\n",
      "\"@JimVitari:  @ABC @washingtonpost we know they're fake just like poles during primary. I'm sure u will crush #CrookedHillary in general\"\n",
      "Hillary Clinton is not a change agent, just the same old status quo! She is spending a fortune, I am spending very little. Close in polls!\n",
      "People in our country want borders, and without them the old line pols like Crooked Hillary will not win. It is time for CHANGE -- and JOBS!\n",
      "Top 50 Facts About Crooked Hillary Clinton From Trump 'Stakes Of The Election' Address: https://t.co/lfUdXYnsgJ\n",
      "Crooked Hillary just took a major ad of me playing golf at Turnberry. Shows me hitting shot, but I never did = lie! Was there to support son\n",
      "Crooked Hillary Clinton, who called BREXIT 100% wrong (along with Obama), is now spending Wall Street money on an ad on my correct call.\n",
      "So funny, Crooked Hillary called BREXIT so incorrectly, and now she says that she is the one to deal with the U.K. All talk, no action!\n",
      "Crooked Hillary called it totally wrong on BREXIT - she went with Obama - and now she is saying we need her to lead. She would be a disaster\n",
      "Hillary Clinton’s open borders are tearing American families apart. I am going to make our country Safe Again for all Americans. #Imwithyou\n",
      "SC has kept us safe from exec amnesty--for now. But Hillary has pledged to expand it, taking jobs from Hispanic &amp; African-American workers.\n",
      "On immigration, I’m consulting with our immigration officers\n",
      "&amp; our wage-earners. Hillary Clinton is consulting with Wall Street.\n",
      "ISIS threatens us today because of the decisions Hillary Clinton has made along with President Obama.\"  --  Donald J. Trump\n",
      "Hillary Lies to Benghazi Families\n",
      "#CrookedHillary \n",
      "https://t.co/YWd5lk5skG\n",
      "\"Hillary Clinton may be the most corrupt person ever to seek the presidency.\"  --   Donald J. Trump\n",
      "\"@1lion: brilliant 3 word response to Hillary's 'I'm With You'  slogan https://t.co/dJL71jwK0g @realDonaldTrump https://t.co/Audi8h85qu\"\n",
      "Hillary says things can't change. I say they have to change. It's a choice between Americanism and her corrupt globalism. #Imwithyou\n",
      "Crooked Hillary refuses to say that she will be raising taxes beyond belief! She will be a disaster for jobs and the economy!\n",
      "Hillary defrauded America as Secy of State. She used it as a personal hedge fund to get herself rich! Corrupt, dangerous, dishonest.\n",
      "If you want to know about Hillary Clinton's honesty &amp; judgment, ask the family of Ambassador Stevens.\n",
      "Hillary Clinton's open borders immigration policies will drive down wages for all Americans - and make everyone less safe.\n",
      "How can Hillary run the economy when she can't even send emails without putting entire nation at risk?\n",
      "Hillary Clinton surged the trade deficit with China 40% as\n",
      "Secretary of State, costing Americans millions of jobs.\n",
      "I will be making a big speech tomorrow to discuss the failed policies and bad judgment of Crooked Hillary Clinton.\n",
      "Crooked Hillary Clinton is totally unfit to be our president-really bad judgement and a temperament, according to new book, which is a mess!\n",
      "Hillary took money and did favors for regimes that enslave women and murder gays.\n",
      "Hillary says this election is about judgment.  She's right.  Her judgement has killed thousands, unleashed ISIS and wrecked the economy.\n",
      "\"@bfraser747: Watch out HillaryClinton 👿 Support @realDonaldTrump 🇺🇸 🇺🇸 #MakeAmericaGreatAgain 🇺🇸 https://t.co/UTYOLo7wGF\"\n",
      "People very unhappy with Crooked Hillary and Obama on JOBS and SAFETY! Biggest trade deficit in many years! More attacks will follow Orlando\n",
      "Thank you to the LGBT community! I will fight for you while Hillary brings in more people that will threaten your freedoms and beliefs.\n",
      "Crooked Hillary says we must call on Saudi Arabia and other countries to stop funding hate. I am calling on- cont'd: https://t.co/T1fVcu3mEC\n",
      "I have been hitting Obama and Crooked Hillary hard on not using the term Radical Islamic Terror. Hillary just broke-said she would now use!\n",
      "\"@WandaWalls20: @realDonaldTrump Please make us safe. We cannot have Hillary as president. We will be in so much trouble.\n",
      "I rarely agree with President Obama- however he is 100% correct about Crooked Hillary Clinton. Great ad!\n",
      "https://t.co/aOvVsZfAW3\n",
      "2004 VIDEO:\n",
      "Pocahontas describing Crooked Hillary Clinton as a Corporate Donor Puppet. Time for change! #Trump2016 \n",
      "https://t.co/rZ1MqUzpKU\n",
      "#FlashbackFriday #CrookedHillary https://t.co/pvrBb7v4NG\n",
      "Obama just endorsed Crooked Hillary. He wants four more years of Obama—but nobody else does!\n",
      "Crooked Hillary Clinton will be a disaster on jobs, the economy, trade, healthcare, the military, guns and just about all else. Obama plus!\n",
      "Bernie Sanders must really dislike Crooked Hillary after the way she played him. Many of his supporters, because of trade, will come to me.\n",
      "I would have had many millions of votes more than Crooked Hillary Clinton except for the fact that I had 16 opponents, she had one!\n",
      "In just out book, Secret Service Agent Gary Byrne doesn't believe that Crooked Hillary has the temperament or integrity to be the president!\n",
      "A former Secret Service Agent for President Clinton excoriates Crooked Hillary describing her as ERRATIC &amp; VIOLENT. Bad temperament for pres\n",
      "Crooked Hillary is being badly criticized (for a Wall Street paid for ad) by PolitiFact for a false ad on me on women. She is a total fraud!\n",
      "Crooked Hillary Clinton has not held a news conference in more than 7 months. Her record is so bad she is unable to answer tough questions!\n",
      "Hillary Clinton is unfit to be president. She has bad judgement, poor leadership skills and a very bad and destructive track record. Change!\n",
      "\"@rapidcraft: Here’s The HILLARY UNIVERSITY Scandal No One In The Media Is Talking About https://t.co/suHERIUHo4 @realDonaldTrump\"\n",
      "In Crooked Hillary's telepromter speech yesterday, she made up things that I said or believe but have no basis in fact. Not honest!\n",
      "Bad performance by Crooked Hillary Clinton! Reading poorly from the telepromter! She doesn't even look presidential!\n",
      "Crooked Hillary no longer has credibility - too much failure in office. People will not allow another four years of incompetence!\n",
      "Crooked Hillary Clinton, who I would love to call Lyin' Hillary, is getting ready to totally misrepresent my foreign policy positions.\n",
      "With all of the Crooked Hillary Clinton's foreign policy experience, she has made so many mistakes - and I mean real monsters! No more HRC.\n",
      "Crooked Hillary Clinton has zero natural talent - she should not be president. Her temperament is bad and her decision making ability-zilch!\n",
      "Bernie Sanders was right when he said that Crooked Hillary Clinton was not qualified to be president because she suffers from BAD judgement!\n",
      "Crooked Hillary Clinton is a fraud who has put the public and country at risk by her illegal and very stupid use of e-mails. Many missing!\n",
      "I am getting great credit for my press conference today. Crooked Hillary should be admonished for not having a press conference in 179 days.\n",
      "I would have had millions of votes more in the primaries (than Crooked Hillary) if I only had one opponent, instead of sixteen. Broke record\n",
      "The failing @nytimes wrote a story about my management style &amp; that I don't have many people. I have 73, Hillary has 800- &amp; I'm beating her.\n",
      "The Inspector General's report on Crooked Hillary Clinton is a disaster. Such bad judgement and temperament cannot be allowed in the W.H.\n",
      "Crooked Hillary Clinton just can't close the deal with Bernie. I had to knock out 16 very good and smart candidates. Hillary doesn't have it\n",
      "A great new book has been written about Crooked Hillary. Read it &amp; you will never be able to vote for her. @Ed_Klein https://t.co/ujDwSSFhbx\n",
      "Crooked Hillary Clinton overregulates, overtaxes and doesn't care about jobs. Most importantly, she suffers from plain old bad judgement!\n",
      "After raising, w/ no obligation, almost $6M for Vets, I couldn't believe protesters formed @ Trump Tower. JUST OUT- SENT BY CROOKED HILLARY!\n",
      "Obama’s VA Secretary just said we shouldn't measure\n",
      "wait times. Hillary says VA problems are not ‘widespread.’ I will take care of\n",
      "our vets!\n",
      "Is Hillary really protecting women? https://t.co/8ZtEIWNqz4\n",
      "Bernie Sanders is continuing his quest because he believes that Crooked Hillary Clinton will be forced out of the race - e-mail scandal!\n",
      "Crooked Hillary wants a radical 500% increase in Syrian refugees. We can’t allow this. Time to get smart and protect America!\n",
      "How can Crooked Hillary say she cares about women when she is silent on radical Islam, which horribly oppresses women?\n",
      "Hillary Clinton is not qualified to be president because her judgement has been proven to be so bad! Would be four more years of stupidity!\n",
      "Crooked Hillary said that I  want guns brought into the school classroom. Wrong!\n",
      "Crooked Hillary Clintons foreign interventions unleashed ISIS in Syria, Iraq and Libya. She is reckless and dangerous!\n",
      "Crooked Hillary wants to get rid of all guns and yet she is surrounded by bodyguards who are fully armed. No more guns to protect Hillary!\n",
      "\"@RBacliff: Hillary wants to rip the guns out of America's hands. No guns = no protection. Get on #TrumpTrain &amp; join @NRA to stop her.\"\n",
      "RT @gatewaypundit: BREAKING POLL: Trump Gains 11 Points on Clinton Since March=&gt; Now Leads Crooked Hillary 46-44 https://t.co/y3BGy15Erb vi…\n",
      "Crooked Hillary is spending tremendous amounts of Wall Street money on false ads against me. She is a very dishonest person!\n",
      "Crooked Hillary Clinton wants to essentially abolish the 2nd Amendment. No gun owner can ever vote for Clinton!\n",
      "Crooked Hillary can't even close the deal with Bernie - and the Dems have it rigged in favor of Hillary. Four more years of this? No way!\n",
      "Crooked Hillary Clinton looks presidential? I don't think so! Four more years of Obama and our country will never come back. ISIS LAUGHS!\n",
      "Look where the world is today, a total mess, and ISIS is still running around wild. I can fix it fast, Hillary has no chance!\n",
      "Crooked Hillary has zero imagination and even less stamina. ISIS, China, Russia and all would love for her to be president. 4 more years!\n",
      "Crooked Hillary Clinton- discussing the #SecondAmendment at a private event. #2A cc: @NRA https://t.co/vV31Pbpkmn\n",
      "I said that Crooked Hillary Clinton is \"not qualified\" to be president because she has \"very bad judgement\" - Bernie said the same thing!\n",
      "Why did Clinton supporter @AlisonForKY declare Crooked Hillary winner in KY when AP hasn't even called the race?\n",
      "Paul Begala, the dopey @CNN flunky and head of the Pro-Hillary Clinton Super PAC, has knowingly committed fraud in his first ad against me.\n",
      "\"@ShoneeP: @realDonaldTrump Trump for President! Bernie is a joke, knows nothing - and Hillary is yesterday's and today's nightmare\"\n",
      "I look so forward to debating Crooked Hillary Clinton! Democrat Primaries are rigged, e-mail investigation is rigged - so time to get it on!\n",
      "\"@michael_favreau: @JIS3 @realDonaldTrump He will destroy Hillary but why give CNN record breaking ratings CNN can go to hell. Trump 2016\"\n",
      "\"@LouDobbs: Hillary Just Handed @realDonaldTrump a Huge Gift: Promising to Put Bubba in Charge of the Economy! #MakeAmericaGreatAgain!\n",
      "\"@HFFoundation4: @realDonaldTrump One thing we know for sure @BernieSanders supporters will turn to #Trump - absolutely not @HillaryClinton\"\n",
      "Wall Street paid for ad is a fraud, just like Crooked Hillary! Their main line had nothing to do with women, and they knew it. Apologize?\n",
      "Do you think Crooked Hillary will finally close the deal? If she can't win Kentucky, she should drop out of race. System rigged!\n",
      "How can Crooked Hillary put her husband in charge of the economy when he was responsible for NAFTA, the worst economic deal in U.S. history?\n",
      "Crooked Hillary said her husband is going to be in charge of the economy.If so, he should run,not her.Will he bring the \"energizer\" to D.C.?\n",
      "Crooked Hillary can't close the deal with Bernie Sanders. Will be another bad day for her!\n",
      "Amazing that Crooked Hillary can do a hit ad on me concerning women when her husband was the WORST abuser of woman in U.S. political history\n",
      "Crooked Hillary Clinton put out an ad where I am misquoted on women. Can't believe she would misrepresent the facts! My hit was on China\n",
      "Wow, 30,000 e-mails were deleted by Crooked Hillary Clinton. She said they had to do with a wedding reception. Liar! How can she run?\n",
      "If Crooked Hillary Clinton can't close the deal on Crazy Bernie, how is she going to take on China, Russia, ISIS and all of the others?\n",
      "Goofy Elizabeth Warren is now using the woman’s card like her friend crooked Hillary. See her dumb tweet “when a woman stands up to you…”\n",
      "Big wins in West Virginia and Nebraska. Get ready for November - Crooked Hillary, who is looking very bad against Crazy Bernie, will lose!\n",
      "I don't want to hit Crazy Bernie Sanders too hard yet because I love watching what he is doing to Crooked Hillary. His time will come!\n",
      "The Clintons spend millions on negative ads on me &amp; I can’t tell the truth about her husband? Don’t feel sorry for crooked Hillary!\n",
      "RT @DanScavino: LOUISIANA GENERAL ELECTION\n",
      "Donald Trump vs. Hillary Clinton\n",
      "#MakeAmericaGreatAgain #Trump2016 https://t.co/74vYOx7dKz\n",
      "Hillary has bad judgment! https://t.co/LhcIU6kmxs\n",
      "Why does the media, with a strong push from Crooked Hillary, keep pushing the false narrative that I want to raise taxes. Exactly opposite!\n",
      "It was Rosie O'Donnell who ate the cake in the vicious Hillary commercial about me, not Crooked Hillary! @marthamaccallum\n",
      "RT @DanScavino: OHIO GENERAL ELECTION\n",
      "Donald Trump vs. Hillary Clinton\n",
      "#MakeAmericaGreatAgain #Trump2016 https://t.co/0yXQ4SFSLO\n",
      "Crooked Hillary Clinton says that she got more primary votes than Donald Trump. But I had 17 people to beat—she had one!\n",
      "If I only had 1 person running against me in the primaries like Hillary Clinton, I would have gotten 10 million more votes than she did!\n",
      "I will win the election against Crooked Hillary despite the people in the Republican Party that are currently and selfishly opposed to me!\n",
      "Crooked Hillary just can't close the deal with Bernie. It will be the same way with ISIS, and China on trade, and Mexico at the border. Bad!\n",
      "I am going to keep our jobs in the U.S., and totally rebuild our crumbling infrastructure. Crooked Hillary has no clue! @Teamsters\n",
      "Goofy Elizabeth Warren, Hillary Clinton’s flunky, has a career that is totally based on a lie. She is not Native American.\n",
      "I hope corrupt Hillary Clinton chooses goofy Elizabeth Warren as her running mate. I will defeat them both.\n",
      "Crooked Hillary Clinton wants completely open borders. Millions of Democrats will run from her over this and support me.\n",
      "I hear @JoeNBC of rapidly fading @Morning_Joe is pushing hard for a third party candidate to run. This will guarantee a Crooked Hillary win.\n",
      "Crooked Hillary has ZERO leadership ability. As Bernie Sanders says, she has bad judgement. Constantly playing the women's card - it is sad!\n",
      "Can you believe Crooked Hillary said, \"We are going to put a whole lot of coal miners&amp;coal companies out of business.\" She then apologized.\n",
      "Unlike crooked Hillary Clinton, who wants to destroy all miners, I want wages to go up in America. We will do so by bringing back jobs!\n",
      "I would rather run against Crooked Hillary Clinton than Bernie Sanders and that will happen because the books are cooked against Bernie!\n",
      "What a great evening we had. So interesting that Sanders beat Crooked Hillary. The dysfunctional system is totally rigged against him!\n",
      "I will defeat Crooked Hillary Clinton on 11/8/2016. #Trump2016\n",
      "#MakeAmericaGreatAgain https://t.co/HtwD1FGn9e\n",
      "Crooked Hillary Clinton said she is used to \"dealing with men who get off the reservation.\" Actually, she has done poorly with such men!\n",
      ".@KarlRove is a failed Jeb Bushy. Never says anything good &amp; never will, even after I beat Hillary. Shouldn't be on the air!\n",
      "Crooked Hillary Clinton, perhaps the most dishonest person to have ever run for the presidency, is also one of the all time great enablers!\n",
      "Lyin' Ted Cruz, who can never beat Hillary Clinton and has NO path to victory, has chosen a V.P.candidate who failed badly in her own effort\n",
      "As soon as John Kasich is hit with negative ads, he will drop like a rock in the polls against Crooked Hillary Clinton. I will win!\n",
      "Ted Cruz is mathematically out of winning the race. Now all he can do is be a spoiler, never a nice thing to do. I will beat Hillary!\n",
      "Kasich only looks O.K. in polls against Hillary because nobody views him as a threat and therefore have placed ZERO negative ads against him\n",
      "Lyin' Ted Cruz can't win with the voters so he has to sell himself to the bosses-I am millions of VOTES ahead! Hillary would destroy him &amp; K\n",
      "I would have millions of votes more than Hillary except for the fact that I had 17 opponents and she just had a socialist named Bernie!\n",
      "Crooked Hillary Clinton is spending a fortune on ads against me. I am the one person she doesn't want to run against. Will be such fun!\n",
      "Lyin' Ted Cruz will never be able to beat Hillary. Despite a rigged delegate system, I am hundreds of delegates ahead of him.\n",
      "\"@Trump_Supporter: \"Trump Holds 66% Favorable Rating in New York – Leads Hillary Clinton by 19pts in Empire... https://t.co/sGAS3bFpCy\n",
      "Bernie Sanders says that Hillary Clinton is unqualified to be president. Based on her decision making ability, I can go along with that!\n",
      "How come the @TODAYshow &amp; @chucktodd show the new @NBCNews Poll for Hillary vs Bernie but do not show the SAME poll where I am killing Cruz?\n",
      "Don't believe the @FoxNews Polls, they are just another phony hit job on me. I will beat Hillary Clinton easily in the General Election.\n",
      "Hillary Clinton has been working on solving the terrorism problem for years. TIME FOR A CHANGE, I WILL SOLVE - AND FAST!\n",
      "\"@DebraRakestraw:  You have over 2M followers more than than @HillaryClinton. This says something about how America feels. #Trump2016 🇺🇸\"\n",
      "Just watched Hillary deliver a prepackaged speech on terror. She’s been in office fighting terror for 20 years- and look where we are!\n",
      "Incompetent Hillary, despite the horrible attack in Brussels today, wants borders to be weak and open-and let the Muslims flow in.  No way!\n",
      "Do you believe that Hillary Clinton now wants Obamacare for illegal immigrants? She should spend more time taking care of our great Vets!\n",
      "Going to Salt Lake City, Utah, for a big rally. Lyin' Ted Cruz should not be allowed to win there - Mormons don't like LIARS! I beat Hillary\n",
      "Hillary Clinton has been involved in corruption for most of her professional life!\n",
      "Who should star in a reboot of Liar Liar- Hillary Clinton or Ted Cruz? Let me know. https://t.co/ESdiEftWGs\n",
      "\"@FoxBusiness: .@RepTomMarino: I think @realDonaldTrump can beat HillaryClinton. And I'm looking forward to Trump being president.\n",
      "In presidential voting so far, John Kasich is ZERO for 22. So why would he be a good candidate? Hillary would beat him, I will beat Hillary!\n",
      "\"@wh: https://t.co/AZmCErLKCn WOW people are so misinformed on DonaldTrump character! Watch this video! Hillary and Bernie don't come close\n",
      "RT @GovMikeHuckabee: Trump says the chaos in Chicago was a planned attack. But Hillary insists it was a spontaneous reaction to an internet…\n",
      "The last person that Hillary or Bernie want to run against is Donald Trump --- and that is fact!\n",
      "RT @RealBenCarson: I endorse @realDonaldTrump. It’s time to unite behind the candidate who will beat Hillary Clinton and return government …\n",
      "I am the only one who can beat Hillary Clinton. I am not a Mitt Romney, who doesn't know how to win. Hillary wants no part of \"Trump\"\n",
      "\"Hillary could lose to Trump in Democratic New York\"\n",
      "#MakeAmericaGreatAgain #Trump2016\n",
      "https://t.co/fQR48CVIbt\n",
      "While Hillary and I both won South Carolina by big margins, Repubs got far more votes with a massive increase from past cycles.GROWING PARTY\n",
      "There are  531  tweets about Hillary.\n"
     ]
    }
   ],
   "source": [
    "from pymongo import MongoClient\n",
    "import re\n",
    "\n",
    "regx = re.compile(\"hillary\", re.IGNORECASE)\n",
    "conn = MongoClient(\"mongodb://localhost:27017\")\n",
    "db = conn.trump\n",
    "tweets = db.tweets.find({'text':{'$regex':regx}},{\"_id\":\"0\",\"text\":\"1\", \"source\":\"1\"}) #db.collectionname.find({'files':{'$regex':'^File'}})\n",
    "\n",
    "count = 0\n",
    "for e in tweets:\n",
    "    count += 1\n",
    "    print(e['text'])\n",
    "    \n",
    "print(\"There are \", count, \" tweets about Hillary.\")"
   ]
  },
  {
   "cell_type": "markdown",
   "metadata": {},
   "source": [
    "EX08- Count the total number of tweets consist of \"Hillary\" and the number of tweets consist of \"Hillary\" that have been sent from Android and from iPhone. (Hint: Use Regular Expressions)(There are different ways to do it. The counting process must be handled by Python)"
   ]
  },
  {
   "cell_type": "code",
   "execution_count": null,
   "metadata": {},
   "outputs": [],
   "source": []
  }
 ],
 "metadata": {
  "kernelspec": {
   "display_name": "Python 3",
   "language": "python",
   "name": "python3"
  },
  "language_info": {
   "codemirror_mode": {
    "name": "ipython",
    "version": 3
   },
   "file_extension": ".py",
   "mimetype": "text/x-python",
   "name": "python",
   "nbconvert_exporter": "python",
   "pygments_lexer": "ipython3",
   "version": "3.6.7"
  }
 },
 "nbformat": 4,
 "nbformat_minor": 2
}
